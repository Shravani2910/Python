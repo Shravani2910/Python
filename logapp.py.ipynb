{
 "cells": [
  {
   "cell_type": "markdown",
   "id": "c882dee4",
   "metadata": {},
   "source": [
    "# Logging in python"
   ]
  },
  {
   "cell_type": "markdown",
   "id": "331eade3",
   "metadata": {},
   "source": [
    "Built in python module provide ways to track events,errors and operational info"
   ]
  },
  {
   "cell_type": "markdown",
   "id": "9f4e4062",
   "metadata": {},
   "source": [
    "# #Example of Logging [Arithmetic App]"
   ]
  },
  {
   "cell_type": "code",
   "execution_count": 4,
   "id": "d696e550",
   "metadata": {},
   "outputs": [],
   "source": [
    "import logging"
   ]
  },
  {
   "cell_type": "code",
   "execution_count": 7,
   "id": "000b125b",
   "metadata": {},
   "outputs": [],
   "source": [
    "logging.basicConfig(\n",
    "   level=logging.DEBUG,\n",
    "   format='%(asctime)s -  %(name)s - %(levelname)s - %(message)s',\n",
    "   datefmt = '%Y-%m-%d %H:%M:%S',\n",
    "    handlers=[\n",
    "        logging.FileHandler(\"app1.log\"),\n",
    "        logging.StreamHandler()\n",
    "    ]\n",
    "    \n",
    ")"
   ]
  },
  {
   "cell_type": "code",
   "execution_count": 10,
   "id": "0dd407cd",
   "metadata": {},
   "outputs": [],
   "source": [
    "#creating Loggers\n",
    "logger=logging.getLogger(\"ArithmeticApp\")\n",
    "\n",
    "def add(a,b):\n",
    "    result=a+b\n",
    "    logger.debug(f\"Adding {a}+{b}={result}\")\n",
    "    return(result)"
   ]
  },
  {
   "cell_type": "code",
   "execution_count": 17,
   "id": "ac1d34f7",
   "metadata": {},
   "outputs": [],
   "source": [
    "def subtract(a,b):\n",
    "    result=a-b\n",
    "    logger.debug(f\"Subtracting {a}-{b}={result}\")\n",
    "    return(result)"
   ]
  },
  {
   "cell_type": "code",
   "execution_count": 18,
   "id": "11608101",
   "metadata": {},
   "outputs": [],
   "source": [
    "def multiply(a,b):\n",
    "    result=a*b\n",
    "    logger.debug(f\"Multiplying {a}*{b}={result}\")\n",
    "    return(result)"
   ]
  },
  {
   "cell_type": "code",
   "execution_count": 19,
   "id": "d25022fe",
   "metadata": {},
   "outputs": [],
   "source": [
    "def divide(a,b):\n",
    "    try:\n",
    "        result=a/b\n",
    "        logger.debug(f\"Dividing {a}/{b}={result}\")\n",
    "        return(result)\n",
    "    except ZeroDivisionError:\n",
    "        logger.error(\"Division by Zero Error\")\n",
    "        return None"
   ]
  },
  {
   "cell_type": "code",
   "execution_count": 20,
   "id": "bb4f1146",
   "metadata": {},
   "outputs": [
    {
     "name": "stderr",
     "output_type": "stream",
     "text": [
      "2024-12-25 21:06:46 -  ArithmeticApp - DEBUG - Adding 10+20=30\n",
      "2024-12-25 21:06:46 -  ArithmeticApp - DEBUG - Subtracting 20-15=5\n",
      "2024-12-25 21:06:46 -  ArithmeticApp - DEBUG - Multiplying 30*60=1800\n",
      "2024-12-25 21:06:46 -  ArithmeticApp - DEBUG - Dividing 4/20=0.2\n"
     ]
    },
    {
     "data": {
      "text/plain": [
       "0.2"
      ]
     },
     "execution_count": 20,
     "metadata": {},
     "output_type": "execute_result"
    }
   ],
   "source": [
    "add(10,20)\n",
    "subtract(20,15)\n",
    "multiply(30,60)\n",
    "divide(4,20)"
   ]
  },
  {
   "cell_type": "code",
   "execution_count": null,
   "id": "d413c1d8",
   "metadata": {},
   "outputs": [],
   "source": []
  }
 ],
 "metadata": {
  "kernelspec": {
   "display_name": "Python 3 (ipykernel)",
   "language": "python",
   "name": "python3"
  },
  "language_info": {
   "codemirror_mode": {
    "name": "ipython",
    "version": 3
   },
   "file_extension": ".py",
   "mimetype": "text/x-python",
   "name": "python",
   "nbconvert_exporter": "python",
   "pygments_lexer": "ipython3",
   "version": "3.11.4"
  }
 },
 "nbformat": 4,
 "nbformat_minor": 5
}
